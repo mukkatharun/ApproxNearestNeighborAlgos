{
  "nbformat": 4,
  "nbformat_minor": 0,
  "metadata": {
    "colab": {
      "name": "Approx nearest neighbor.ipynb",
      "provenance": [],
      "authorship_tag": "ABX9TyMc+VNCHkNPDT2xJjjJ6RKJ",
      "include_colab_link": true
    },
    "kernelspec": {
      "name": "python3",
      "display_name": "Python 3"
    },
    "language_info": {
      "name": "python"
    }
  },
  "cells": [
    {
      "cell_type": "markdown",
      "metadata": {
        "id": "view-in-github",
        "colab_type": "text"
      },
      "source": [
        "<a href=\"https://colab.research.google.com/github/mukkatharun/ApproxNearestNeighborAlgos/blob/main/Approx_nearest_neighbor.ipynb\" target=\"_parent\"><img src=\"https://colab.research.google.com/assets/colab-badge.svg\" alt=\"Open In Colab\"/></a>"
      ]
    },
    {
      "cell_type": "code",
      "metadata": {
        "id": "yMUtFptBfJCB"
      },
      "source": [
        "\n",
        "# from lightfm.datasets import fetch_movielens\n",
        "import numpy as np\n",
        "# from lightfm import LightFM\n",
        "# from lightfm.evaluation import precision_at_k\n",
        "# from lightfm.evaluation import auc_score"
      ],
      "execution_count": 4,
      "outputs": []
    },
    {
      "cell_type": "code",
      "metadata": {
        "id": "TiCixmwcfY8s"
      },
      "source": [
        ""
      ],
      "execution_count": null,
      "outputs": []
    }
  ]
}